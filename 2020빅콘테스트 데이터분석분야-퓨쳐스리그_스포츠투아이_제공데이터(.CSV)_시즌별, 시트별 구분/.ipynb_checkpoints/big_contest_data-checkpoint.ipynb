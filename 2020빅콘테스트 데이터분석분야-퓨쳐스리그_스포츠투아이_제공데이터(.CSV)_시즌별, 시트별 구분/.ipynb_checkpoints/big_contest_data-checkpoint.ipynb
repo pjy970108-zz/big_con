{
 "cells": [
  {
   "cell_type": "code",
   "execution_count": 153,
   "metadata": {},
   "outputs": [],
   "source": [
    "import pandas as pd\n",
    "import numpy as np"
   ]
  },
  {
   "cell_type": "code",
   "execution_count": 154,
   "metadata": {},
   "outputs": [],
   "source": [
    "team_hitter = []\n",
    "for i in  range(5):\n",
    "    team_hitter.append(pd.read_csv(f'2020빅콘테스트_스포츠투아이_제공데이터_팀타자_20{16+i}.csv'))\n",
    "hitter_data = pd.concat([team_hitter[i] for i in range(len(team_hitter))])"
   ]
  },
  {
   "cell_type": "code",
   "execution_count": 155,
   "metadata": {},
   "outputs": [],
   "source": [
    "team_pitcher = []\n",
    "for i in  range(5):\n",
    "    team_pitcher.append(pd.read_csv(f'2020빅콘테스트_스포츠투아이_제공데이터_팀투수_20{16+i}.csv'))\n",
    "pitcher_data = pd.concat([team_pitcher[i] for i in range(len(team_hitter))])"
   ]
  },
  {
   "cell_type": "code",
   "execution_count": 156,
   "metadata": {},
   "outputs": [],
   "source": [
    "hitter = []\n",
    "for i in  range(5):\n",
    "    hitter.append(pd.read_csv(f'2020빅콘테스트_스포츠투아이_제공데이터_개인타자_20{16+i}.csv', encoding=\"cp949\"))\n",
    "hitter_p_data = pd.concat([hitter[i] for i in range(len(hitter))])"
   ]
  },
  {
   "cell_type": "code",
   "execution_count": 157,
   "metadata": {},
   "outputs": [],
   "source": [
    "team = []\n",
    "for i in  range(5):\n",
    "    team.append(pd.read_csv(f'2020빅콘테스트_스포츠투아이_제공데이터_등록선수_20{16+i}.csv', encoding=\"cp949\"))\n",
    "team_data = pd.concat([team[i] for i in range(len(hitter))])"
   ]
  },
  {
   "cell_type": "code",
   "execution_count": 158,
   "metadata": {},
   "outputs": [],
   "source": [
    "game = []\n",
    "for i in  range(5):\n",
    "    game.append(pd.read_csv(f'2020빅콘테스트_스포츠투아이_제공데이터_경기_20{16+i}.csv', encoding=\"cp949\"))\n",
    "game_data = pd.concat([game[i] for i in range(len(hitter))])"
   ]
  },
  {
   "cell_type": "code",
   "execution_count": 159,
   "metadata": {},
   "outputs": [],
   "source": [
    "#데이터 추가\n",
    "hitter_data[\"strike_out_rate\"] = hitter_data[\"KK\"] / hitter_data[\"AB\"]\n",
    "# hitter_data[\"4ball_rate\"] = \n",
    "# hitter_data[\"ERA_mean\"] = \n",
    "\n"
   ]
  },
  {
   "cell_type": "code",
   "execution_count": 160,
   "metadata": {
    "scrolled": true
   },
   "outputs": [],
   "source": [
    "batting_average = hitter_data.groupby(\"T_ID\")[\"RUN\"].sum() / hitter_data.groupby(\"T_ID\")[\"AB\"].sum() "
   ]
  },
  {
   "cell_type": "code",
   "execution_count": 161,
   "metadata": {},
   "outputs": [],
   "source": [
    "four_ball_average = hitter_p_data.groupby('P_ID')[\"BB\"].sum() / hitter_p_data.groupby('P_ID')[\"G_ID\"].count() #선수의 경기당 볼넷 개수\n",
    "steal = hitter_p_data.groupby('P_ID')[\"SB\"].sum() / hitter_p_data.groupby('P_ID')[\"G_ID\"].count()\n",
    "RBI = hitter_p_data.groupby('P_ID')[\"RBI\"].sum() / hitter_p_data.groupby('P_ID')[\"G_ID\"].count()"
   ]
  },
  {
   "cell_type": "code",
   "execution_count": 162,
   "metadata": {},
   "outputs": [
    {
     "data": {
      "text/html": [
       "<div>\n",
       "<style scoped>\n",
       "    .dataframe tbody tr th:only-of-type {\n",
       "        vertical-align: middle;\n",
       "    }\n",
       "\n",
       "    .dataframe tbody tr th {\n",
       "        vertical-align: top;\n",
       "    }\n",
       "\n",
       "    .dataframe thead th {\n",
       "        text-align: right;\n",
       "    }\n",
       "</style>\n",
       "<table border=\"1\" class=\"dataframe\">\n",
       "  <thead>\n",
       "    <tr style=\"text-align: right;\">\n",
       "      <th></th>\n",
       "      <th>GDAY_DS</th>\n",
       "      <th>T_ID</th>\n",
       "      <th>P_ID</th>\n",
       "      <th>ENTRY_YN</th>\n",
       "      <th>four_ball</th>\n",
       "      <th>steal</th>\n",
       "      <th>RBI</th>\n",
       "    </tr>\n",
       "  </thead>\n",
       "  <tbody>\n",
       "    <tr>\n",
       "      <th>0</th>\n",
       "      <td>20160401</td>\n",
       "      <td>HH</td>\n",
       "      <td>60404</td>\n",
       "      <td>Y</td>\n",
       "      <td>0.090909</td>\n",
       "      <td>0.000000</td>\n",
       "      <td>0.030303</td>\n",
       "    </tr>\n",
       "    <tr>\n",
       "      <th>1</th>\n",
       "      <td>20160401</td>\n",
       "      <td>HH</td>\n",
       "      <td>60667</td>\n",
       "      <td>Y</td>\n",
       "      <td>0.093750</td>\n",
       "      <td>0.000000</td>\n",
       "      <td>0.125000</td>\n",
       "    </tr>\n",
       "    <tr>\n",
       "      <th>2</th>\n",
       "      <td>20160401</td>\n",
       "      <td>HH</td>\n",
       "      <td>60757</td>\n",
       "      <td>Y</td>\n",
       "      <td>0.000000</td>\n",
       "      <td>0.000000</td>\n",
       "      <td>0.000000</td>\n",
       "    </tr>\n",
       "    <tr>\n",
       "      <th>4</th>\n",
       "      <td>20160401</td>\n",
       "      <td>HH</td>\n",
       "      <td>60768</td>\n",
       "      <td>N</td>\n",
       "      <td>0.000000</td>\n",
       "      <td>0.000000</td>\n",
       "      <td>0.000000</td>\n",
       "    </tr>\n",
       "    <tr>\n",
       "      <th>5</th>\n",
       "      <td>20160401</td>\n",
       "      <td>HH</td>\n",
       "      <td>60805</td>\n",
       "      <td>Y</td>\n",
       "      <td>0.146341</td>\n",
       "      <td>0.000000</td>\n",
       "      <td>0.073171</td>\n",
       "    </tr>\n",
       "    <tr>\n",
       "      <th>...</th>\n",
       "      <td>...</td>\n",
       "      <td>...</td>\n",
       "      <td>...</td>\n",
       "      <td>...</td>\n",
       "      <td>...</td>\n",
       "      <td>...</td>\n",
       "      <td>...</td>\n",
       "    </tr>\n",
       "    <tr>\n",
       "      <th>520326</th>\n",
       "      <td>20200719</td>\n",
       "      <td>LG</td>\n",
       "      <td>79140</td>\n",
       "      <td>Y</td>\n",
       "      <td>0.000000</td>\n",
       "      <td>0.000000</td>\n",
       "      <td>0.000000</td>\n",
       "    </tr>\n",
       "    <tr>\n",
       "      <th>520327</th>\n",
       "      <td>20200719</td>\n",
       "      <td>LG</td>\n",
       "      <td>79150</td>\n",
       "      <td>Y</td>\n",
       "      <td>0.227053</td>\n",
       "      <td>0.101449</td>\n",
       "      <td>0.227053</td>\n",
       "    </tr>\n",
       "    <tr>\n",
       "      <th>520328</th>\n",
       "      <td>20200719</td>\n",
       "      <td>LG</td>\n",
       "      <td>79192</td>\n",
       "      <td>N</td>\n",
       "      <td>0.218861</td>\n",
       "      <td>0.030249</td>\n",
       "      <td>0.597865</td>\n",
       "    </tr>\n",
       "    <tr>\n",
       "      <th>520329</th>\n",
       "      <td>20200719</td>\n",
       "      <td>LG</td>\n",
       "      <td>79617</td>\n",
       "      <td>N</td>\n",
       "      <td>0.000000</td>\n",
       "      <td>0.000000</td>\n",
       "      <td>0.000000</td>\n",
       "    </tr>\n",
       "    <tr>\n",
       "      <th>520330</th>\n",
       "      <td>20200719</td>\n",
       "      <td>LG</td>\n",
       "      <td>79825</td>\n",
       "      <td>Y</td>\n",
       "      <td>0.000000</td>\n",
       "      <td>0.000000</td>\n",
       "      <td>0.000000</td>\n",
       "    </tr>\n",
       "  </tbody>\n",
       "</table>\n",
       "<p>373551 rows × 7 columns</p>\n",
       "</div>"
      ],
      "text/plain": [
       "         GDAY_DS T_ID   P_ID ENTRY_YN  four_ball     steal       RBI\n",
       "0       20160401   HH  60404        Y   0.090909  0.000000  0.030303\n",
       "1       20160401   HH  60667        Y   0.093750  0.000000  0.125000\n",
       "2       20160401   HH  60757        Y   0.000000  0.000000  0.000000\n",
       "4       20160401   HH  60768        N   0.000000  0.000000  0.000000\n",
       "5       20160401   HH  60805        Y   0.146341  0.000000  0.073171\n",
       "...          ...  ...    ...      ...        ...       ...       ...\n",
       "520326  20200719   LG  79140        Y   0.000000  0.000000  0.000000\n",
       "520327  20200719   LG  79150        Y   0.227053  0.101449  0.227053\n",
       "520328  20200719   LG  79192        N   0.218861  0.030249  0.597865\n",
       "520329  20200719   LG  79617        N   0.000000  0.000000  0.000000\n",
       "520330  20200719   LG  79825        Y   0.000000  0.000000  0.000000\n",
       "\n",
       "[373551 rows x 7 columns]"
      ]
     },
     "execution_count": 162,
     "metadata": {},
     "output_type": "execute_result"
    }
   ],
   "source": [
    "for_team = pd.DataFrame(four_ball_average)\n",
    "for_team = pd.concat([for_team,steal,RBI],axis=1)\n",
    "\n",
    "for_team.columns = [\"four_ball\",\"steal\",\"RBI\"]\n",
    "team_data = pd.merge(team_data,for_team, on=\"P_ID\",how=\"left\")\n",
    "\n",
    "\n",
    "team_data = team_data.dropna(axis=0)\n",
    "team_data"
   ]
  },
  {
   "cell_type": "code",
   "execution_count": 163,
   "metadata": {},
   "outputs": [],
   "source": [
    "hitter_data[\"AVG\"] = hitter_data[\"HIT\"] / hitter_data[\"AB\"]\n",
    "all_data = hitter_data.drop([\"G_ID\",'HEADER_NO', 'TB_SC', 'PA', 'AB',\n",
    "       'RBI', 'RUN', 'HIT', 'H2', 'H3', 'HR', 'SB', 'CS', 'SH', 'SF', 'BB',\n",
    "       'IB', 'HP', 'KK', 'GD', 'ERR', 'LOB', 'P_HRA_RT', 'P_AB_CN', 'P_HIT_CN',\n",
    "       'strike_out_rate'],axis=1)"
   ]
  },
  {
   "cell_type": "code",
   "execution_count": 164,
   "metadata": {},
   "outputs": [],
   "source": [
    "four_ball = team_data.groupby([\"T_ID\",\"GDAY_DS\"])[\"four_ball\"].mean() #팀과 게임 날짜를 기준으로 선수들의 4구개수의 평균을 구함\n",
    "steal = team_data.groupby([\"T_ID\",\"GDAY_DS\"])[\"steal\"].mean() \n",
    "RBI = team_data.groupby([\"T_ID\",\"GDAY_DS\"])[\"RBI\"].mean() \n"
   ]
  },
  {
   "cell_type": "code",
   "execution_count": 165,
   "metadata": {},
   "outputs": [
    {
     "data": {
      "text/html": [
       "<div>\n",
       "<style scoped>\n",
       "    .dataframe tbody tr th:only-of-type {\n",
       "        vertical-align: middle;\n",
       "    }\n",
       "\n",
       "    .dataframe tbody tr th {\n",
       "        vertical-align: top;\n",
       "    }\n",
       "\n",
       "    .dataframe thead th {\n",
       "        text-align: right;\n",
       "    }\n",
       "</style>\n",
       "<table border=\"1\" class=\"dataframe\">\n",
       "  <thead>\n",
       "    <tr style=\"text-align: right;\">\n",
       "      <th></th>\n",
       "      <th>GDAY_DS</th>\n",
       "      <th>T_ID</th>\n",
       "      <th>VS_T_ID</th>\n",
       "      <th>AVG</th>\n",
       "      <th>four_ball</th>\n",
       "      <th>steal</th>\n",
       "      <th>RBI</th>\n",
       "    </tr>\n",
       "  </thead>\n",
       "  <tbody>\n",
       "    <tr>\n",
       "      <th>0</th>\n",
       "      <td>20160401</td>\n",
       "      <td>LG</td>\n",
       "      <td>HH</td>\n",
       "      <td>0.214286</td>\n",
       "      <td>0.118907</td>\n",
       "      <td>0.022351</td>\n",
       "      <td>0.203505</td>\n",
       "    </tr>\n",
       "    <tr>\n",
       "      <th>1</th>\n",
       "      <td>20160401</td>\n",
       "      <td>HH</td>\n",
       "      <td>LG</td>\n",
       "      <td>0.282609</td>\n",
       "      <td>0.121470</td>\n",
       "      <td>0.017394</td>\n",
       "      <td>0.171436</td>\n",
       "    </tr>\n",
       "    <tr>\n",
       "      <th>2</th>\n",
       "      <td>20160401</td>\n",
       "      <td>NC</td>\n",
       "      <td>HT</td>\n",
       "      <td>0.300000</td>\n",
       "      <td>0.105973</td>\n",
       "      <td>0.024373</td>\n",
       "      <td>0.148667</td>\n",
       "    </tr>\n",
       "    <tr>\n",
       "      <th>3</th>\n",
       "      <td>20160401</td>\n",
       "      <td>HT</td>\n",
       "      <td>NC</td>\n",
       "      <td>0.235294</td>\n",
       "      <td>0.120449</td>\n",
       "      <td>0.025280</td>\n",
       "      <td>0.169779</td>\n",
       "    </tr>\n",
       "    <tr>\n",
       "      <th>4</th>\n",
       "      <td>20160401</td>\n",
       "      <td>SK</td>\n",
       "      <td>KT</td>\n",
       "      <td>0.277778</td>\n",
       "      <td>0.099902</td>\n",
       "      <td>0.022982</td>\n",
       "      <td>0.152071</td>\n",
       "    </tr>\n",
       "    <tr>\n",
       "      <th>...</th>\n",
       "      <td>...</td>\n",
       "      <td>...</td>\n",
       "      <td>...</td>\n",
       "      <td>...</td>\n",
       "      <td>...</td>\n",
       "      <td>...</td>\n",
       "      <td>...</td>\n",
       "    </tr>\n",
       "    <tr>\n",
       "      <th>6395</th>\n",
       "      <td>20200719</td>\n",
       "      <td>LT</td>\n",
       "      <td>SS</td>\n",
       "      <td>0.206897</td>\n",
       "      <td>0.145707</td>\n",
       "      <td>0.023671</td>\n",
       "      <td>0.182600</td>\n",
       "    </tr>\n",
       "    <tr>\n",
       "      <th>6396</th>\n",
       "      <td>20200719</td>\n",
       "      <td>HT</td>\n",
       "      <td>OB</td>\n",
       "      <td>0.250000</td>\n",
       "      <td>0.136936</td>\n",
       "      <td>0.022748</td>\n",
       "      <td>0.196044</td>\n",
       "    </tr>\n",
       "    <tr>\n",
       "      <th>6397</th>\n",
       "      <td>20200719</td>\n",
       "      <td>OB</td>\n",
       "      <td>HT</td>\n",
       "      <td>0.297297</td>\n",
       "      <td>0.140497</td>\n",
       "      <td>0.019720</td>\n",
       "      <td>0.191330</td>\n",
       "    </tr>\n",
       "    <tr>\n",
       "      <th>6398</th>\n",
       "      <td>20200719</td>\n",
       "      <td>SK</td>\n",
       "      <td>WO</td>\n",
       "      <td>0.200000</td>\n",
       "      <td>0.153370</td>\n",
       "      <td>0.030964</td>\n",
       "      <td>0.183689</td>\n",
       "    </tr>\n",
       "    <tr>\n",
       "      <th>6399</th>\n",
       "      <td>20200719</td>\n",
       "      <td>WO</td>\n",
       "      <td>SK</td>\n",
       "      <td>0.212121</td>\n",
       "      <td>0.128228</td>\n",
       "      <td>0.024734</td>\n",
       "      <td>0.183377</td>\n",
       "    </tr>\n",
       "  </tbody>\n",
       "</table>\n",
       "<p>6400 rows × 7 columns</p>\n",
       "</div>"
      ],
      "text/plain": [
       "       GDAY_DS T_ID VS_T_ID       AVG  four_ball     steal       RBI\n",
       "0     20160401   LG      HH  0.214286   0.118907  0.022351  0.203505\n",
       "1     20160401   HH      LG  0.282609   0.121470  0.017394  0.171436\n",
       "2     20160401   NC      HT  0.300000   0.105973  0.024373  0.148667\n",
       "3     20160401   HT      NC  0.235294   0.120449  0.025280  0.169779\n",
       "4     20160401   SK      KT  0.277778   0.099902  0.022982  0.152071\n",
       "...        ...  ...     ...       ...        ...       ...       ...\n",
       "6395  20200719   LT      SS  0.206897   0.145707  0.023671  0.182600\n",
       "6396  20200719   HT      OB  0.250000   0.136936  0.022748  0.196044\n",
       "6397  20200719   OB      HT  0.297297   0.140497  0.019720  0.191330\n",
       "6398  20200719   SK      WO  0.200000   0.153370  0.030964  0.183689\n",
       "6399  20200719   WO      SK  0.212121   0.128228  0.024734  0.183377\n",
       "\n",
       "[6400 rows x 7 columns]"
      ]
     },
     "execution_count": 165,
     "metadata": {},
     "output_type": "execute_result"
    }
   ],
   "source": [
    "all_data = pd.merge(all_data,four_ball, on=[\"T_ID\",\"GDAY_DS\"], how=\"left\")\n",
    "all_data = pd.merge(all_data,steal, on=[\"T_ID\",\"GDAY_DS\"], how=\"left\")\n",
    "all_data = pd.merge(all_data,RBI, on=[\"T_ID\",\"GDAY_DS\"], how=\"left\")\n",
    "all_data"
   ]
  },
  {
   "cell_type": "code",
   "execution_count": 166,
   "metadata": {},
   "outputs": [],
   "source": [
    "all_data[all_data.isnull().any(axis=1)] # 2016 KT선수들은 어디감?\n",
    "all_data = all_data.dropna(axis=0)\n",
    "all_data2 = all_data.drop([\"AVG\"], axis=1)"
   ]
  },
  {
   "cell_type": "code",
   "execution_count": 167,
   "metadata": {},
   "outputs": [],
   "source": [
    "from sklearn.preprocessing import LabelEncoder\n",
    "le = LabelEncoder()\n",
    "all_data2[\"T_ID\"] = le.fit_transform(all_data2[\"T_ID\"])\n",
    "all_data2[\"VS_T_ID\"] = le.fit_transform(all_data2[\"VS_T_ID\"])\n"
   ]
  },
  {
   "cell_type": "code",
   "execution_count": 168,
   "metadata": {},
   "outputs": [],
   "source": [
    "from sklearn.model_selection import train_test_split\n",
    "X_train, X_test, y_train, y_test = train_test_split(all_data2,all_data[\"AVG\"], test_size=0.2, random_state=42)"
   ]
  },
  {
   "cell_type": "code",
   "execution_count": 169,
   "metadata": {},
   "outputs": [],
   "source": [
    "from sklearn.ensemble import RandomForestRegressor\n",
    "rf = RandomForestRegressor(n_jobs=-1)\n",
    "rf.fit(X_train,y_train)\n",
    "result = rf.predict(X_test)"
   ]
  },
  {
   "cell_type": "code",
   "execution_count": 170,
   "metadata": {},
   "outputs": [
    {
     "data": {
      "text/plain": [
       "0.008596786874816291"
      ]
     },
     "execution_count": 170,
     "metadata": {},
     "output_type": "execute_result"
    }
   ],
   "source": [
    "from sklearn.metrics import mean_squared_error\n",
    "mean_squared_error(y_test,result)\n"
   ]
  },
  {
   "cell_type": "code",
   "execution_count": null,
   "metadata": {},
   "outputs": [],
   "source": [
    "#0.008596786874816291"
   ]
  }
 ],
 "metadata": {
  "kernelspec": {
   "display_name": "Python 3",
   "language": "python",
   "name": "python3"
  },
  "language_info": {
   "codemirror_mode": {
    "name": "ipython",
    "version": 3
   },
   "file_extension": ".py",
   "mimetype": "text/x-python",
   "name": "python",
   "nbconvert_exporter": "python",
   "pygments_lexer": "ipython3",
   "version": "3.8.3"
  }
 },
 "nbformat": 4,
 "nbformat_minor": 4
}
